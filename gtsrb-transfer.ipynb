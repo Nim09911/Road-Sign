{
 "cells": [
  {
   "cell_type": "code",
   "execution_count": 1,
   "id": "a65c9cda",
   "metadata": {},
   "outputs": [],
   "source": [
    "import random\n",
    "import numpy as np\n",
    "import pandas as pd\n",
    "import os\n",
    "import matplotlib.pyplot as plt\n",
    "\n",
    "import tensorflow as tf\n",
    "from tensorflow import keras"
   ]
  },
  {
   "cell_type": "code",
   "execution_count": 2,
   "id": "77f8092d",
   "metadata": {},
   "outputs": [],
   "source": [
    "data_dir = \"data\"\n",
    "validation_dir = data_dir + \"/Validation\""
   ]
  },
  {
   "cell_type": "code",
   "execution_count": 3,
   "id": "f08f0618",
   "metadata": {},
   "outputs": [],
   "source": [
    "from tensorflow import keras\n",
    "from tensorflow.keras.preprocessing.image import ImageDataGenerator"
   ]
  },
  {
   "cell_type": "code",
   "execution_count": 4,
   "id": "2c4774d1",
   "metadata": {},
   "outputs": [],
   "source": [
    "# ImageDataGenerator\n",
    "\n",
    "datagen = ImageDataGenerator(\n",
    "        rotation_range = 10,\n",
    "        zoom_range = 0.1,\n",
    "        width_shift_range = 0.1, # horizontal shift\n",
    "        height_shift_range = 0.1, # vertical shift\n",
    "        shear_range = 0.1 # shearing range\n",
    ")"
   ]
  },
  {
   "cell_type": "code",
   "execution_count": 5,
   "id": "0f28c82e",
   "metadata": {},
   "outputs": [
    {
     "name": "stdout",
     "output_type": "stream",
     "text": [
      "Found 35289 images belonging to 43 classes.\n"
     ]
    }
   ],
   "source": [
    "train_generator = datagen.flow_from_directory(\n",
    "                      directory='data/Train/',\n",
    "                      target_size=(32, 32), # resize to this size\n",
    "                      color_mode=\"rgb\", # for coloured images\n",
    "                      batch_size=256,\n",
    "                      class_mode='categorical', # classes to predict\n",
    "                      seed=42 # to make the result reproducible\n",
    "                  )"
   ]
  },
  {
   "cell_type": "code",
   "execution_count": 6,
   "id": "d469933e",
   "metadata": {},
   "outputs": [
    {
     "name": "stdout",
     "output_type": "stream",
     "text": [
      "Found 3920 images belonging to 43 classes.\n"
     ]
    }
   ],
   "source": [
    "datagen = ImageDataGenerator()\n",
    "validation_generator = datagen.flow_from_directory(\n",
    "                      directory= validation_dir,\n",
    "                      target_size=(32, 32), # resize to this size\n",
    "                      batch_size=256,\n",
    "                      color_mode=\"rgb\", # for coloured images\n",
    "                      seed=42 # to make the result reproducible\n",
    "                  )"
   ]
  },
  {
   "cell_type": "code",
   "execution_count": 7,
   "id": "e95b2910",
   "metadata": {},
   "outputs": [
    {
     "name": "stdout",
     "output_type": "stream",
     "text": [
      "Found 12630 images belonging to 43 classes.\n"
     ]
    }
   ],
   "source": [
    "test_generator = datagen.flow_from_directory(\n",
    "                      directory= 'data/Test/',\n",
    "                      target_size=(32, 32), # resize to this size\n",
    "                      batch_size=256,\n",
    "                      color_mode=\"rgb\", # for coloured images\n",
    "                      shuffle=False,\n",
    "                      seed=42 # to make the result reproducible\n",
    "                  )"
   ]
  },
  {
   "cell_type": "code",
   "execution_count": 8,
   "id": "00206bc6",
   "metadata": {},
   "outputs": [],
   "source": [
    "from tensorflow.keras import Sequential, optimizers, layers\n",
    "from tensorflow.keras.applications.vgg16 import VGG16"
   ]
  },
  {
   "cell_type": "code",
   "execution_count": 9,
   "id": "75babe5b",
   "metadata": {},
   "outputs": [],
   "source": [
    "base_model = VGG16(weights=\"imagenet\", include_top=False, input_shape=(32, 32, 3))"
   ]
  },
  {
   "cell_type": "code",
   "execution_count": 10,
   "id": "b419ea5d",
   "metadata": {},
   "outputs": [],
   "source": [
    "model = Sequential([\n",
    "    base_model,\n",
    "    layers.Flatten(),\n",
    "    layers.Dense(512, activation='relu'),\n",
    "    layers.Dropout(0.5),\n",
    "    layers.Dense(43, activation='softmax')\n",
    "])"
   ]
  },
  {
   "cell_type": "code",
   "execution_count": 11,
   "id": "88666238",
   "metadata": {
    "scrolled": true
   },
   "outputs": [
    {
     "name": "stdout",
     "output_type": "stream",
     "text": [
      "Model: \"sequential\"\n",
      "_________________________________________________________________\n",
      "Layer (type)                 Output Shape              Param #   \n",
      "=================================================================\n",
      "vgg16 (Functional)           (None, 1, 1, 512)         14714688  \n",
      "_________________________________________________________________\n",
      "flatten (Flatten)            (None, 512)               0         \n",
      "_________________________________________________________________\n",
      "dense (Dense)                (None, 512)               262656    \n",
      "_________________________________________________________________\n",
      "dropout (Dropout)            (None, 512)               0         \n",
      "_________________________________________________________________\n",
      "dense_1 (Dense)              (None, 43)                22059     \n",
      "=================================================================\n",
      "Total params: 14,999,403\n",
      "Trainable params: 14,999,403\n",
      "Non-trainable params: 0\n",
      "_________________________________________________________________\n"
     ]
    }
   ],
   "source": [
    "#Optimizer\n",
    "optimizer = optimizers.Adam()\n",
    "\n",
    "#Compile the model\n",
    "model.compile(optimizer=optimizer,\n",
    "              loss='categorical_crossentropy',\n",
    "              metrics=['accuracy']\n",
    "             )\n",
    "\n",
    "model.summary()"
   ]
  },
  {
   "cell_type": "code",
   "execution_count": 12,
   "id": "fa6221fa",
   "metadata": {},
   "outputs": [],
   "source": [
    "from tensorflow.keras.callbacks import EarlyStopping\n",
    "\n",
    "es = EarlyStopping(monitor='val_accuracy', mode='max', patience=5,  restore_best_weights=True)"
   ]
  },
  {
   "cell_type": "code",
   "execution_count": 13,
   "id": "7d63d4b2",
   "metadata": {
    "scrolled": true
   },
   "outputs": [
    {
     "name": "stdout",
     "output_type": "stream",
     "text": [
      "Epoch 1/50\n",
      "138/138 [==============================] - 39s 282ms/step - loss: 4.0935 - accuracy: 0.0617 - val_loss: 3.3408 - val_accuracy: 0.0885\n",
      "Epoch 2/50\n",
      "138/138 [==============================] - 26s 191ms/step - loss: 3.1113 - accuracy: 0.1248 - val_loss: 2.5684 - val_accuracy: 0.2092\n",
      "Epoch 3/50\n",
      "138/138 [==============================] - 26s 188ms/step - loss: 2.3635 - accuracy: 0.2512 - val_loss: 2.0500 - val_accuracy: 0.3199\n",
      "Epoch 4/50\n",
      "138/138 [==============================] - 26s 189ms/step - loss: 1.8459 - accuracy: 0.3758 - val_loss: 1.3219 - val_accuracy: 0.5031\n",
      "Epoch 5/50\n",
      "138/138 [==============================] - 26s 191ms/step - loss: 1.1844 - accuracy: 0.5722 - val_loss: 0.8066 - val_accuracy: 0.7102\n",
      "Epoch 6/50\n",
      "138/138 [==============================] - 27s 198ms/step - loss: 0.7820 - accuracy: 0.7289 - val_loss: 0.5164 - val_accuracy: 0.8245\n",
      "Epoch 7/50\n",
      "138/138 [==============================] - 26s 191ms/step - loss: 0.5473 - accuracy: 0.8163 - val_loss: 0.3614 - val_accuracy: 0.8707\n",
      "Epoch 8/50\n",
      "138/138 [==============================] - 27s 192ms/step - loss: 0.4326 - accuracy: 0.8625 - val_loss: 0.2342 - val_accuracy: 0.9309\n",
      "Epoch 9/50\n",
      "138/138 [==============================] - 27s 195ms/step - loss: 0.2411 - accuracy: 0.9272 - val_loss: 0.2811 - val_accuracy: 0.9196\n",
      "Epoch 10/50\n",
      "138/138 [==============================] - 26s 189ms/step - loss: 0.2233 - accuracy: 0.9376 - val_loss: 0.2571 - val_accuracy: 0.9283\n",
      "Epoch 11/50\n",
      "138/138 [==============================] - 26s 190ms/step - loss: 0.1477 - accuracy: 0.9597 - val_loss: 0.0921 - val_accuracy: 0.9745\n",
      "Epoch 12/50\n",
      "138/138 [==============================] - 26s 190ms/step - loss: 0.1231 - accuracy: 0.9683 - val_loss: 0.0600 - val_accuracy: 0.9832\n",
      "Epoch 13/50\n",
      "138/138 [==============================] - 26s 192ms/step - loss: 0.1050 - accuracy: 0.9732 - val_loss: 0.0640 - val_accuracy: 0.9842\n",
      "Epoch 14/50\n",
      "138/138 [==============================] - 26s 190ms/step - loss: 0.1014 - accuracy: 0.9749 - val_loss: 0.0576 - val_accuracy: 0.9842\n",
      "Epoch 15/50\n",
      "138/138 [==============================] - 26s 191ms/step - loss: 0.0736 - accuracy: 0.9825 - val_loss: 0.0625 - val_accuracy: 0.9847\n",
      "Epoch 16/50\n",
      "138/138 [==============================] - 27s 192ms/step - loss: 0.0735 - accuracy: 0.9843 - val_loss: 0.0387 - val_accuracy: 0.9908\n",
      "Epoch 17/50\n",
      "138/138 [==============================] - 27s 192ms/step - loss: 0.0802 - accuracy: 0.9819 - val_loss: 0.0650 - val_accuracy: 0.9847\n",
      "Epoch 18/50\n",
      "138/138 [==============================] - 27s 192ms/step - loss: 0.0562 - accuracy: 0.9871 - val_loss: 0.0686 - val_accuracy: 0.9834\n",
      "Epoch 19/50\n",
      "138/138 [==============================] - 27s 193ms/step - loss: 0.0715 - accuracy: 0.9836 - val_loss: 0.0342 - val_accuracy: 0.9913\n",
      "Epoch 20/50\n",
      "138/138 [==============================] - 27s 192ms/step - loss: 0.0624 - accuracy: 0.9853 - val_loss: 0.0642 - val_accuracy: 0.9855\n",
      "Epoch 21/50\n",
      "138/138 [==============================] - 27s 195ms/step - loss: 0.0843 - accuracy: 0.9815 - val_loss: 0.0596 - val_accuracy: 0.9885\n",
      "Epoch 22/50\n",
      "138/138 [==============================] - 26s 192ms/step - loss: 0.0497 - accuracy: 0.9882 - val_loss: 0.0546 - val_accuracy: 0.9880\n",
      "Epoch 23/50\n",
      "138/138 [==============================] - 26s 190ms/step - loss: 0.0595 - accuracy: 0.9876 - val_loss: 0.0632 - val_accuracy: 0.9895\n",
      "Epoch 24/50\n",
      "138/138 [==============================] - 27s 195ms/step - loss: 0.0346 - accuracy: 0.9923 - val_loss: 0.0240 - val_accuracy: 0.9957\n",
      "Epoch 25/50\n",
      "138/138 [==============================] - 26s 192ms/step - loss: 0.0349 - accuracy: 0.9923 - val_loss: 0.0351 - val_accuracy: 0.9929\n",
      "Epoch 26/50\n",
      "138/138 [==============================] - 27s 195ms/step - loss: 0.0784 - accuracy: 0.9849 - val_loss: 0.0920 - val_accuracy: 0.9842\n",
      "Epoch 27/50\n",
      "138/138 [==============================] - 26s 191ms/step - loss: 0.0960 - accuracy: 0.9803 - val_loss: 0.0547 - val_accuracy: 0.9844\n",
      "Epoch 28/50\n",
      "138/138 [==============================] - 26s 191ms/step - loss: 0.0624 - accuracy: 0.9859 - val_loss: 0.0467 - val_accuracy: 0.9921\n",
      "Epoch 29/50\n",
      "138/138 [==============================] - 26s 190ms/step - loss: 0.0374 - accuracy: 0.9922 - val_loss: 0.0320 - val_accuracy: 0.9934\n"
     ]
    }
   ],
   "source": [
    "history = model.fit(\n",
    "    train_generator,\n",
    "    epochs=50,\n",
    "    validation_data=validation_generator,\n",
    "    callbacks=[es]\n",
    ")"
   ]
  },
  {
   "cell_type": "code",
   "execution_count": 14,
   "id": "3c39700c",
   "metadata": {},
   "outputs": [
    {
     "data": {
      "image/png": "[encoded data removed]",
      "text/plain": [
       "<Figure size 640x480 with 1 Axes>"
      ]
     },
     "metadata": {},
     "output_type": "display_data"
    }
   ],
   "source": [
    "#plotting accuracy\n",
    "plt.plot(history.history['accuracy'])\n",
    "plt.plot(history.history['val_accuracy'])\n",
    "plt.title('model accuracy')\n",
    "plt.ylabel('accuracy')\n",
    "plt.xlabel('epoch')\n",
    "plt.legend(['train', 'validation'], loc='upper left')\n",
    "plt.show()"
   ]
  },
  {
   "cell_type": "code",
   "execution_count": 15,
   "id": "2199d992",
   "metadata": {},
   "outputs": [
    {
     "data": {
      "image/png": "[encoded data removed]",
      "text/plain": [
       "<Figure size 640x480 with 1 Axes>"
      ]
     },
     "metadata": {},
     "output_type": "display_data"
    }
   ],
   "source": [
    "#plotting loss\n",
    "plt.plot(history.history['loss'])\n",
    "plt.plot(history.history['val_loss'])\n",
    "plt.title('model loss')\n",
    "plt.ylabel('loss')\n",
    "plt.xlabel('epoch')\n",
    "plt.legend(['train', 'validation'], loc='upper left')\n",
    "plt.show()"
   ]
  },
  {
   "cell_type": "code",
   "execution_count": 16,
   "id": "01f47ec3",
   "metadata": {},
   "outputs": [
    {
     "name": "stdout",
     "output_type": "stream",
     "text": [
      "50/50 [==============================] - 8s 166ms/step - loss: 0.2042 - accuracy: 0.9684\n"
     ]
    }
   ],
   "source": [
    "test_loss, test_acc = model.evaluate(test_generator, verbose=1)"
   ]
  },
  {
   "cell_type": "code",
   "execution_count": 17,
   "id": "7cee1b44",
   "metadata": {},
   "outputs": [
    {
     "name": "stdout",
     "output_type": "stream",
     "text": [
      "              precision    recall  f1-score   support\n",
      "\n",
      "           0       0.87      1.00      0.93        60\n",
      "           1       0.99      1.00      0.99       720\n",
      "           2       1.00      0.99      1.00       660\n",
      "           3       0.98      0.94      0.96       420\n",
      "           4       1.00      0.98      0.99       690\n",
      "           5       0.99      0.99      0.99       720\n",
      "           6       0.96      1.00      0.98       270\n",
      "           7       0.99      1.00      0.99       210\n",
      "           8       1.00      0.99      1.00       150\n",
      "           9       1.00      0.98      0.99       360\n",
      "          10       1.00      0.77      0.87       390\n",
      "          11       1.00      1.00      1.00        60\n",
      "          12       0.99      0.99      0.99       750\n",
      "          13       0.92      1.00      0.96        90\n",
      "          14       0.96      0.89      0.92        90\n",
      "          15       1.00      0.76      0.86       120\n",
      "          16       0.97      0.97      0.97       150\n",
      "          17       0.97      0.94      0.96        90\n",
      "          18       0.95      0.99      0.97       480\n",
      "          19       0.70      0.99      0.82       180\n",
      "          20       0.88      0.48      0.62        60\n",
      "          21       0.78      1.00      0.87       150\n",
      "          22       0.70      1.00      0.83        90\n",
      "          23       0.99      0.95      0.97       450\n",
      "          24       0.82      0.80      0.81       150\n",
      "          25       0.99      0.99      0.99       270\n",
      "          26       1.00      0.97      0.98        60\n",
      "          27       0.99      0.99      0.99       210\n",
      "          28       0.96      0.99      0.98       120\n",
      "          29       1.00      0.96      0.98       390\n",
      "          30       0.98      0.99      0.98       120\n",
      "          31       0.88      1.00      0.94        60\n",
      "          32       0.99      1.00      0.99       690\n",
      "          33       0.87      1.00      0.93        90\n",
      "          34       1.00      0.98      0.99       660\n",
      "          35       0.84      0.98      0.90        90\n",
      "          36       0.92      0.93      0.93        60\n",
      "          37       0.97      0.74      0.84        90\n",
      "          38       0.95      0.97      0.96       630\n",
      "          39       1.00      0.97      0.98       150\n",
      "          40       1.00      0.99      0.99       450\n",
      "          41       0.97      0.98      0.98       450\n",
      "          42       0.99      1.00      0.99       480\n",
      "\n",
      "    accuracy                           0.97     12630\n",
      "   macro avg       0.95      0.95      0.94     12630\n",
      "weighted avg       0.97      0.97      0.97     12630\n",
      "\n"
     ]
    }
   ],
   "source": [
    "from sklearn.metrics import classification_report\n",
    "\n",
    "y_pred = np.argmax(model.predict(test_generator), axis=-1)\n",
    "print(classification_report(test_generator.labels, y_pred))"
   ]
  },
  {
   "cell_type": "code",
   "execution_count": 18,
   "id": "bb24d66c",
   "metadata": {},
   "outputs": [],
   "source": [
    "model.save(data_dir+\"/model_transfer.h5\")"
   ]
  }
 ],
 "metadata": {
  "kernelspec": {
   "display_name": "Python 3 (ipykernel)",
   "language": "python",
   "name": "python3"
  },
  "language_info": {
   "codemirror_mode": {
    "name": "ipython",
    "version": 3
   },
   "file_extension": ".py",
   "mimetype": "text/x-python",
   "name": "python",
   "nbconvert_exporter": "python",
   "pygments_lexer": "ipython3",
   "version": "3.8.12"
  }
 },
 "nbformat": 4,
 "nbformat_minor": 5
}
